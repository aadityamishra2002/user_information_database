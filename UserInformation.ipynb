{
 "cells": [
  {
   "cell_type": "code",
   "execution_count": 50,
   "id": "67f5135d-9e0e-4abd-bcd6-898a1e210228",
   "metadata": {},
   "outputs": [
    {
     "ename": "OperationalError",
     "evalue": "table users_information already exists",
     "output_type": "error",
     "traceback": [
      "\u001b[1;31m---------------------------------------------------------------------------\u001b[0m",
      "\u001b[1;31mOperationalError\u001b[0m                          Traceback (most recent call last)",
      "Cell \u001b[1;32mIn[50], line 17\u001b[0m\n\u001b[0;32m     12\u001b[0m create_table \u001b[38;5;241m=\u001b[39m \u001b[38;5;124m'''\u001b[39m\u001b[38;5;124mCREATE TABLE users_information(\u001b[39m\n\u001b[0;32m     13\u001b[0m \u001b[38;5;124m\t\t\t\tName TEXT PRIMARY KEY,\u001b[39m\n\u001b[0;32m     14\u001b[0m \u001b[38;5;124m\t\t\t\tEmail TEXT, Phone TEXT, Address TEXT, Gender TEXT);\u001b[39m\u001b[38;5;124m'''\u001b[39m\n\u001b[0;32m     16\u001b[0m \u001b[38;5;66;03m# Creating the table into our database\u001b[39;00m\n\u001b[1;32m---> 17\u001b[0m cursor\u001b[38;5;241m.\u001b[39mexecute(create_table)\n\u001b[0;32m     19\u001b[0m \u001b[38;5;66;03m# Opening the person-records.csv file\u001b[39;00m\n\u001b[0;32m     20\u001b[0m file \u001b[38;5;241m=\u001b[39m \u001b[38;5;28mopen\u001b[39m(\u001b[38;5;124m'\u001b[39m\u001b[38;5;124mD:/user_data.csv\u001b[39m\u001b[38;5;124m'\u001b[39m)\n",
      "\u001b[1;31mOperationalError\u001b[0m: table users_information already exists"
     ]
    }
   ],
   "source": [
    "import csv\n",
    "import sqlite3\n",
    "\n",
    "# Connecting to the geeks database\n",
    "connection = sqlite3.connect('users_data.db')\n",
    "\n",
    "# Creating a cursor object to execute\n",
    "# SQL queries on a database table\n",
    "cursor = connection.cursor()\n",
    "\n",
    "# Table Definition\n",
    "create_table = '''CREATE TABLE users_information(\n",
    "\t\t\t\tName TEXT PRIMARY KEY,\n",
    "\t\t\t\tEmail TEXT, Phone TEXT, Address TEXT, Gender TEXT);'''\n",
    "\n",
    "# Creating the table into our database\n",
    "cursor.execute(create_table)\n",
    "\n",
    "# Opening the person-records.csv file\n",
    "file = open('D:/user_data.csv')\n",
    "\n",
    "# Reading the contents of the person-records.csv file\n",
    "contents = csv.reader(file)\n",
    "\n",
    "# SQL query to insert data into the person table\n",
    "insert_records = '''INSERT INTO users_information (Name, Email, Phone, Address, Gender) VALUES (?, ?, ?, ?, ?)'''\n",
    "\n",
    "# Importing the contents of the file into our person table\n",
    "cursor.executemany(insert_records, contents)\n",
    "\n",
    "# SQL query to retrieve all data from the person table\n",
    "# To verify that the data of the csv file has been successfully\n",
    "# inserted into the table\n",
    "select_all = \"SELECT * FROM info\"\n",
    "rows = cursor.execute(select_all).fetchall()\n",
    "\n",
    "# Output to the console screen\n",
    "for r in rows:\n",
    "\tprint(r)\n",
    "\n",
    "# Committing the changes\n",
    "connection.commit()\n",
    "\n",
    "# Closing the database connection\n",
    "connection.close()"
   ]
  },
  {
   "cell_type": "code",
   "execution_count": null,
   "id": "257183ff-fa5c-455d-89e1-dffc35257188",
   "metadata": {},
   "outputs": [],
   "source": []
  }
 ],
 "metadata": {
  "kernelspec": {
   "display_name": "Python 3 (ipykernel)",
   "language": "python",
   "name": "python3"
  },
  "language_info": {
   "codemirror_mode": {
    "name": "ipython",
    "version": 3
   },
   "file_extension": ".py",
   "mimetype": "text/x-python",
   "name": "python",
   "nbconvert_exporter": "python",
   "pygments_lexer": "ipython3",
   "version": "3.11.7"
  }
 },
 "nbformat": 4,
 "nbformat_minor": 5
}
